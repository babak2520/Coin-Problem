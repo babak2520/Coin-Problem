{
 "cells": [
  {
   "cell_type": "code",
   "execution_count": 5,
   "metadata": {},
   "outputs": [
    {
     "name": "stdout",
     "output_type": "stream",
     "text": [
      "Mean of total payments on 10 coin set draw is $38.5.\n",
      "Standard Deviation of total payments on 10 coin set draw is $6.365270352991039.\n",
      "Possibility of making at least $45 in a 10 coin set draw is 18.17956349206349%\n"
     ]
    }
   ],
   "source": [
    "from itertools import permutations\n",
    "import numpy as np\n",
    "\n",
    "#This function is simply to calculate the total money made given a combination of coin extraction.\n",
    "#For the purposes of testing code time, a recursive implementation is also written.\n",
    "def MoneyMade(Combination, Recursive = False):\n",
    "    \n",
    "    if not Recursive:\n",
    "        TotalMade = 0\n",
    "        Last = 0\n",
    "        for item in Combination:\n",
    "            TotalMade += abs(item-Last)\n",
    "            Last = item\n",
    "        return TotalMade\n",
    "        \n",
    "    else:   #Recursive implementation. Takes slightly longer.\n",
    "        if len(Combination) == 2:\n",
    "            return  Combination[0]+abs(Combination[1]-Combination[0])\n",
    "        else:\n",
    "            return abs(Combination[-1]-Combination[-2])+MoneyMade(Combination[:-1])\n",
    "\n",
    "\n",
    "\n",
    "N = 10 #Total number of coins.\n",
    "MinMoney = 45 #The minimum money to be considered for calculating the possibility.\n",
    "\n",
    "MyList = list(range(1, N+1))\n",
    "perm = permutations(MyList, N) \n",
    "MoneyCombs = []\n",
    "\n",
    "for item in perm:\n",
    "    MoneyInc = MoneyMade(item, True)\n",
    "    MoneyCombs.append(MoneyInc)\n",
    "\n",
    "TotalCombs = 0\n",
    "for item in MoneyCombs:\n",
    "    if item >= MinMoney:\n",
    "        TotalCombs += 1\n",
    "Possibility = TotalCombs / len(MoneyCombs) * 100\n",
    "\n",
    "print(\"Mean of total payments on {} coin set draw is ${}.\".format(N, np.mean(MoneyCombs)))\n",
    "print(\"Standard Deviation of total payments on {} coin set draw is ${}.\".format(N, np.std(MoneyCombs)))\n",
    "print(\"Possibility of making at least ${} in a {} coin set draw is {}%\".format(MinMoney, N, Possibility))"
   ]
  },
  {
   "cell_type": "code",
   "execution_count": null,
   "metadata": {
    "collapsed": true
   },
   "outputs": [],
   "source": []
  }
 ],
 "metadata": {
  "kernelspec": {
   "display_name": "Python 3",
   "language": "python",
   "name": "python3"
  },
  "language_info": {
   "codemirror_mode": {
    "name": "ipython",
    "version": 3
   },
   "file_extension": ".py",
   "mimetype": "text/x-python",
   "name": "python",
   "nbconvert_exporter": "python",
   "pygments_lexer": "ipython3",
   "version": "3.6.2"
  }
 },
 "nbformat": 4,
 "nbformat_minor": 2
}
